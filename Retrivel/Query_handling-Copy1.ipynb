{
 "cells": [
  {
   "cell_type": "code",
   "execution_count": 1,
   "id": "2deb5563-ffa1-4641-8896-9ebdd9e83ee5",
   "metadata": {},
   "outputs": [],
   "source": [
    "import os\n",
    "from langchain_ollama import ChatOllama\n",
    "from langchain.prompts import ChatPromptTemplate, PromptTemplate\n",
    "from langchain_core.output_parsers import StrOutputParser\n",
    "from langchain_core.runnables import RunnablePassthrough\n",
    "from langchain.retrievers.multi_query import MultiQueryRetriever\n",
    "from langchain_community.vectorstores.chroma import Chroma\n",
    "from langchain_community.embeddings import OllamaEmbeddings"
   ]
  },
  {
   "cell_type": "code",
   "execution_count": 2,
   "id": "b5396415-5aae-41a9-a777-511d9ebbeb65",
   "metadata": {},
   "outputs": [
    {
     "name": "stderr",
     "output_type": "stream",
     "text": [
      "C:\\Users\\somaa\\AppData\\Local\\Temp\\ipykernel_16512\\2241661458.py:5: LangChainDeprecationWarning: The class `OllamaEmbeddings` was deprecated in LangChain 0.3.1 and will be removed in 1.0.0. An updated version of the class exists in the :class:`~langchain-ollama package and should be used instead. To use it run `pip install -U :class:`~langchain-ollama` and import as `from :class:`~langchain_ollama import OllamaEmbeddings``.\n",
      "  embedding = OllamaEmbeddings(model=TEXT_EMBEDDING_MODEL, show_progress=True)\n"
     ]
    }
   ],
   "source": [
    "CHROMA_PATH = os.getenv('CHROMA_PATH', 'chroma_embeddings')\n",
    "COLLECTION_NAME = os.getenv('COLLECTION_NAME', 'local-rag')\n",
    "TEXT_EMBEDDING_MODEL = os.getenv('TEXT_EMBEDDING_MODEL', 'nomic-embed-text')  # Default model\n",
    "TEMP_FOLDER = os.getenv('TEMP_FOLDER', './_temp')\n",
    "embedding = OllamaEmbeddings(model=TEXT_EMBEDDING_MODEL, show_progress=True)\n"
   ]
  },
  {
   "cell_type": "code",
   "execution_count": 3,
   "id": "bd66a2bf-13ae-4602-b417-4aebd0bc422b",
   "metadata": {},
   "outputs": [
    {
     "name": "stderr",
     "output_type": "stream",
     "text": [
      "C:\\Users\\somaa\\AppData\\Local\\Temp\\ipykernel_16512\\454650042.py:1: LangChainDeprecationWarning: The class `Chroma` was deprecated in LangChain 0.2.9 and will be removed in 1.0. An updated version of the class exists in the :class:`~langchain-chroma package and should be used instead. To use it run `pip install -U :class:`~langchain-chroma` and import as `from :class:`~langchain_chroma import Chroma``.\n",
      "  db = Chroma(\n"
     ]
    }
   ],
   "source": [
    "db = Chroma(\n",
    "        collection_name=COLLECTION_NAME,\n",
    "        persist_directory=CHROMA_PATH,\n",
    "        embedding_function=embedding\n",
    "    )"
   ]
  },
  {
   "cell_type": "code",
   "execution_count": 4,
   "id": "d3375ed4-eb09-4acf-9f6b-ba0c81714fd4",
   "metadata": {},
   "outputs": [],
   "source": [
    "LLM_MODEL = \"llama3.2:3b-instruct-q5_K_S\"\n"
   ]
  },
  {
   "cell_type": "code",
   "execution_count": 5,
   "id": "3b0ba534-6bca-4f49-b15a-968a3b1d5287",
   "metadata": {},
   "outputs": [],
   "source": [
    "def get_prompt():\n",
    "    QUERY_PROMPT = PromptTemplate(\n",
    "        input_variables=[\"question\"],\n",
    "        template=\"\"\"You are an AI assistant. Generate five variations of the user's question to enhance document retrieval from a vector database. Also Provide alternatives separated by newlines.\n",
    "        Original question: {question}\"\"\",\n",
    "    )\n",
    "\n",
    "    template = \"\"\" Answer the question based ONLY on the provided context:\n",
    "    {context}\n",
    "    Question: {question}\n",
    "    \"\"\"\n",
    "    prompt = ChatPromptTemplate.from_template(template)\n",
    "    return QUERY_PROMPT, prompt"
   ]
  },
  {
   "cell_type": "code",
   "execution_count": 6,
   "id": "86813e1e-3dda-47d8-bb1b-44b44756d01a",
   "metadata": {},
   "outputs": [],
   "source": [
    "def query(input):\n",
    "    if input:\n",
    "        # Initialize the language model\n",
    "        llm = ChatOllama(model=\"llama3.2:3b-instruct-q5_K_S\")\n",
    "\n",
    "        # Get the vector database instance\n",
    "\n",
    "        # Get the query and answer prompts\n",
    "        QUERY_PROMPT, prompt = get_prompt()\n",
    "        \n",
    "        # Multi-document retriever to retrieve from multiple relevant documents\n",
    "        retriever = MultiQueryRetriever.from_llm(\n",
    "            retriever=db.as_retriever(search_type=\"similarity\", search_kwargs={\"k\": 3}),\n",
    "            llm=llm,\n",
    "            prompt=QUERY_PROMPT\n",
    "        )\n",
    "\n",
    "        # Processing chain\n",
    "        chain = (\n",
    "            {\"context\": retriever, \"question\": RunnablePassthrough()}\n",
    "            | prompt\n",
    "            | llm\n",
    "            | StrOutputParser()\n",
    "        )\n",
    "\n",
    "        response = chain.invoke(input)\n",
    "        return response\n",
    "\n",
    "    return None"
   ]
  },
  {
   "cell_type": "code",
   "execution_count": 9,
   "id": "80692787-9611-450f-998c-1108da0a7c2c",
   "metadata": {},
   "outputs": [],
   "source": [
    "queries = [\n",
    "    \"What are the risk factors associated with Google and Tesla?\"\n",
    "]"
   ]
  },
  {
   "cell_type": "code",
   "execution_count": 10,
   "id": "4ead5fab-518c-43d3-b450-aea20efa7ff7",
   "metadata": {},
   "outputs": [
    {
     "name": "stdout",
     "output_type": "stream",
     "text": [
      "Query: What are the risk factors associated with Google and Tesla?\n"
     ]
    },
    {
     "name": "stderr",
     "output_type": "stream",
     "text": [
      "\n",
      "\n",
      "\n",
      "\n",
      "\n",
      "\n",
      "\n",
      "\n",
      "\n",
      "\n",
      "\n",
      "llamaEmbeddings: 100%|██████████████████████████████████████████████████████████████████████████████████████████████████████| 1/1 [00:02<00:00,  2.10s/it]"
     ]
    },
    {
     "name": "stdout",
     "output_type": "stream",
     "text": [
      "Answer: Based on the text, some of the risk factors associated with Alphabet Inc. (Google) and Tesla include:\n",
      "\n",
      "**Alphabet Inc. (Google)**\n",
      "\n",
      "1. Changes in social, political, economic, tax, and regulatory conditions or in laws and policies governing a wide range of topics.\n",
      "2. Antitrust complaints filed by the U.S. Department of Justice and state Attorneys General.\n",
      "3. Legislative proposals and pending litigation in the U.S., EU, and around the world that could diminish or eliminate safe harbor protection for websites and online platforms.\n",
      "4. The Digital Markets Act and Digital Services Act in Europe.\n",
      "5. Fines and changes to business practices due to regulatory actions.\n",
      "6. Increased cost of doing business and limitations on pursuing certain business models or offering certain products or services.\n",
      "7. Fluctuations in foreign exchange rates, particularly with regards to international revenues.\n",
      "\n",
      "**Tesla**\n",
      "\n",
      "There are no specific risk factors mentioned in the text for Tesla. However, it can be inferred that some of the general risks associated with Alphabet Inc. (Google) may also apply to Tesla, such as:\n",
      "\n",
      "1. Changes in regulatory environment and laws governing technology companies.\n",
      "2. Antitrust complaints or investigations by government agencies.\n",
      "3. Legislative proposals and pending litigation related to technology companies.\n",
      "4. Fluctuations in foreign exchange rates.\n",
      "\n",
      "It's worth noting that Tesla has its own specific risk factors, including those related to the automotive industry, such as:\n",
      "\n",
      "1. Competition from established automakers.\n",
      "2. Dependence on a limited number of suppliers for critical components.\n",
      "3. Regulatory challenges and potential changes to laws governing electric vehicles.\n",
      "4. Potential delays or disruptions in production due to manufacturing issues or other factors.\n",
      "\n",
      "These risk factors are not explicitly mentioned in the provided text, but they are commonly associated with Tesla as a publicly traded company in the automotive industry.\n",
      "--------------------------------------------------\n"
     ]
    }
   ],
   "source": [
    "for q in queries:\n",
    "    print(f\"Query: {q}\")\n",
    "    answer = query(q)\n",
    "    print(f\"Answer: {answer}\")\n",
    "    print(\"-\" * 50)"
   ]
  },
  {
   "cell_type": "code",
   "execution_count": null,
   "id": "42dc3b84-b5d1-47eb-9da6-569eec2bd863",
   "metadata": {},
   "outputs": [],
   "source": []
  },
  {
   "cell_type": "code",
   "execution_count": null,
   "id": "27d707e5-4645-4dc5-9570-2388f2ee9b66",
   "metadata": {},
   "outputs": [],
   "source": []
  },
  {
   "cell_type": "code",
   "execution_count": null,
   "id": "73b07860-753e-4ea2-981d-a0233381a695",
   "metadata": {},
   "outputs": [],
   "source": []
  }
 ],
 "metadata": {
  "kernelspec": {
   "display_name": "Python 3 (ipykernel)",
   "language": "python",
   "name": "python3"
  },
  "language_info": {
   "codemirror_mode": {
    "name": "ipython",
    "version": 3
   },
   "file_extension": ".py",
   "mimetype": "text/x-python",
   "name": "python",
   "nbconvert_exporter": "python",
   "pygments_lexer": "ipython3",
   "version": "3.10.10"
  }
 },
 "nbformat": 4,
 "nbformat_minor": 5
}
