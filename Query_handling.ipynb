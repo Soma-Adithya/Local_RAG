{
 "cells": [
  {
   "cell_type": "code",
   "execution_count": 1,
   "id": "2deb5563-ffa1-4641-8896-9ebdd9e83ee5",
   "metadata": {},
   "outputs": [],
   "source": [
    "import os\n",
    "from langchain_ollama import ChatOllama\n",
    "from langchain.prompts import ChatPromptTemplate, PromptTemplate\n",
    "from langchain_core.output_parsers import StrOutputParser\n",
    "from langchain_core.runnables import RunnablePassthrough\n",
    "from langchain.retrievers.multi_query import MultiQueryRetriever\n",
    "from langchain_community.vectorstores.chroma import Chroma\n",
    "from langchain_community.embeddings import OllamaEmbeddings"
   ]
  },
  {
   "cell_type": "code",
   "execution_count": 2,
   "id": "b5396415-5aae-41a9-a777-511d9ebbeb65",
   "metadata": {},
   "outputs": [
    {
     "name": "stderr",
     "output_type": "stream",
     "text": [
      "C:\\Users\\somaa\\AppData\\Local\\Temp\\ipykernel_43200\\2241661458.py:5: LangChainDeprecationWarning: The class `OllamaEmbeddings` was deprecated in LangChain 0.3.1 and will be removed in 1.0.0. An updated version of the class exists in the :class:`~langchain-ollama package and should be used instead. To use it run `pip install -U :class:`~langchain-ollama` and import as `from :class:`~langchain_ollama import OllamaEmbeddings``.\n",
      "  embedding = OllamaEmbeddings(model=TEXT_EMBEDDING_MODEL, show_progress=True)\n"
     ]
    }
   ],
   "source": [
    "CHROMA_PATH = os.getenv('CHROMA_PATH', 'chroma_embeddings')\n",
    "COLLECTION_NAME = os.getenv('COLLECTION_NAME', 'local-rag')\n",
    "TEXT_EMBEDDING_MODEL = os.getenv('TEXT_EMBEDDING_MODEL', 'nomic-embed-text')  # Default model\n",
    "TEMP_FOLDER = os.getenv('TEMP_FOLDER', './_temp')\n",
    "embedding = OllamaEmbeddings(model=TEXT_EMBEDDING_MODEL, show_progress=True)\n"
   ]
  },
  {
   "cell_type": "code",
   "execution_count": 3,
   "id": "bd66a2bf-13ae-4602-b417-4aebd0bc422b",
   "metadata": {},
   "outputs": [
    {
     "name": "stderr",
     "output_type": "stream",
     "text": [
      "C:\\Users\\somaa\\AppData\\Local\\Temp\\ipykernel_43200\\454650042.py:1: LangChainDeprecationWarning: The class `Chroma` was deprecated in LangChain 0.2.9 and will be removed in 1.0. An updated version of the class exists in the :class:`~langchain-chroma package and should be used instead. To use it run `pip install -U :class:`~langchain-chroma` and import as `from :class:`~langchain_chroma import Chroma``.\n",
      "  db = Chroma(\n"
     ]
    }
   ],
   "source": [
    "db = Chroma(\n",
    "        collection_name=COLLECTION_NAME,\n",
    "        persist_directory=CHROMA_PATH,\n",
    "        embedding_function=embedding\n",
    "    )"
   ]
  },
  {
   "cell_type": "code",
   "execution_count": 4,
   "id": "d3375ed4-eb09-4acf-9f6b-ba0c81714fd4",
   "metadata": {},
   "outputs": [],
   "source": [
    "LLM_MODEL = \"llama3.2:3b-instruct-q5_K_S\"\n"
   ]
  },
  {
   "cell_type": "code",
   "execution_count": 5,
   "id": "3b0ba534-6bca-4f49-b15a-968a3b1d5287",
   "metadata": {},
   "outputs": [],
   "source": [
    "def get_prompt():\n",
    "    QUERY_PROMPT = PromptTemplate(\n",
    "        input_variables=[\"question\"],\n",
    "        template=\"\"\"You are an AI assistant. Generate five variations of the user's question to enhance document retrieval from a vector database. Also Provide alternatives separated by newlines.\n",
    "        Original question: {question}\"\"\",\n",
    "    )\n",
    "\n",
    "    template = \"\"\" Answer the question based ONLY on the provided context:\n",
    "    {context}\n",
    "    Question: {question}\n",
    "    \"\"\"\n",
    "    prompt = ChatPromptTemplate.from_template(template)\n",
    "    return QUERY_PROMPT, prompt"
   ]
  },
  {
   "cell_type": "code",
   "execution_count": 9,
   "id": "86813e1e-3dda-47d8-bb1b-44b44756d01a",
   "metadata": {},
   "outputs": [],
   "source": [
    "def query(input):\n",
    "    if input:\n",
    "        # Initialize the language model\n",
    "        llm = ChatOllama(model=\"llama3.2:3b-instruct-q5_K_S\")\n",
    "        QUERY_PROMPT = PromptTemplate(\n",
    "        input_variables=[\"question\"],\n",
    "        template=\"\"\"You are an AI assistant. Generate five variations of the user's question to enhance document retrieval from a vector database. Also Provide alternatives separated by newlines.\n",
    "        Original question: {question}\"\"\",\n",
    "        )\n",
    "        # Get the vector database instance\n",
    "        template = \"\"\" Answer the question based ONLY on the provided context:\n",
    "        {context}\n",
    "        Question: {question}\n",
    "        \"\"\"\n",
    "        prompt = ChatPromptTemplate.from_template(template)\n",
    "        # Get the query and answer prompts\n",
    "        QUERY_PROMPT, prompt = get_prompt()\n",
    "        CHROMA_PATH = os.getenv('CHROMA_PATH', 'chroma_embeddings')\n",
    "        COLLECTION_NAME = os.getenv('COLLECTION_NAME', 'local-rag')\n",
    "        TEXT_EMBEDDING_MODEL = os.getenv('TEXT_EMBEDDING_MODEL', 'nomic-embed-text')  # Default model\n",
    "        TEMP_FOLDER = os.getenv('TEMP_FOLDER', './_temp')\n",
    "        embedding = OllamaEmbeddings(model=TEXT_EMBEDDING_MODEL, show_progress=True)\n",
    "        db = Chroma(\n",
    "        collection_name=COLLECTION_NAME,\n",
    "        persist_directory=CHROMA_PATH,\n",
    "        embedding_function=embedding\n",
    "        )\n",
    "        # Multi-document retriever to retrieve from multiple relevant documents\n",
    "        retriever = MultiQueryRetriever.from_llm(\n",
    "            retriever=db.as_retriever(search_type=\"similarity\", search_kwargs={\"k\": 3}),\n",
    "            llm=llm,\n",
    "            prompt=QUERY_PROMPT\n",
    "        )\n",
    "\n",
    "        # Processing chain\n",
    "        chain = (\n",
    "            {\"context\": retriever, \"question\": RunnablePassthrough()}\n",
    "            | prompt\n",
    "            | llm\n",
    "            | StrOutputParser()\n",
    "        )\n",
    "\n",
    "        response = chain.invoke(input)\n",
    "        return response\n",
    "\n",
    "    return None"
   ]
  },
  {
   "cell_type": "code",
   "execution_count": 10,
   "id": "80692787-9611-450f-998c-1108da0a7c2c",
   "metadata": {},
   "outputs": [],
   "source": [
    "queries = [\n",
    "    \"What are the differences in the business of Tesla and Uber?\",\n",
    "]"
   ]
  },
  {
   "cell_type": "code",
   "execution_count": 11,
   "id": "4ead5fab-518c-43d3-b450-aea20efa7ff7",
   "metadata": {},
   "outputs": [
    {
     "name": "stdout",
     "output_type": "stream",
     "text": [
      "Query: What are the differences in the business of Tesla and Uber?\n"
     ]
    },
    {
     "name": "stderr",
     "output_type": "stream",
     "text": [
      "\n",
      "\n",
      "\n",
      "\n",
      "\n",
      "\n",
      "\n",
      "\n",
      "\n",
      "\n",
      "\n",
      "\n",
      "\n",
      "llamaEmbeddings: 100%|██████████████████████████████████████████████████████████████████████████████████████████████████████| 1/1 [00:02<00:00,  2.10s/it]"
     ]
    },
    {
     "name": "stdout",
     "output_type": "stream",
     "text": [
      "Answer: A question about two well-known companies!\n",
      "\n",
      "Tesla and Uber are both tech giants in their respective industries, but they have distinct business models and focuses. Here are some key differences:\n",
      "\n",
      "**1. Products/Services:**\n",
      "\t* Tesla: Electric vehicles (EVs), clean energy solutions, solar power systems, and energy storage products. They aim to accelerate the world's transition to sustainable energy.\n",
      "\t* Uber: Ride-hailing and transportation network services (TNS). They connect passengers with drivers for on-demand rides, food delivery, and other transportation needs.\n",
      "\n",
      "**2. Business Model:**\n",
      "\t* Tesla: Focuses on manufacturing and selling EVs, with a strategy of disrupting the automotive industry by offering high-performance, sustainable vehicles.\n",
      "\t* Uber: Operates as a platform that connects riders with drivers through an app, generating revenue primarily from commission-based fares.\n",
      "\n",
      "**3. Revenue Streams:**\n",
      "\t* Tesla: Primarily generates revenue from vehicle sales, energy storage products, and solar panel installations.\n",
      "\t* Uber: Generates revenue mainly from ride-hailing services (fares) and food delivery fees.\n",
      "\n",
      "**4. Scale and Reach:**\n",
      "\t* Tesla: Focuses on expanding its EV product lineup and building a strong brand presence globally, with plans to become the leading player in the automotive industry.\n",
      "\t* Uber: Has a vast network of drivers and riders worldwide, operating in over 10,000 cities across more than 69 countries.\n",
      "\n",
      "**5. Market Size and Competition:**\n",
      "\t* Tesla: Enjoys significant market share in the EV market, but faces intense competition from established automakers and new entrants like Rivian and Lucid Motors.\n",
      "\t* Uber: Has become a dominant player in the TNS space, with a massive user base, but is facing increasing competition from rival ride-hailing companies like Lyft and Didi Chuxing.\n",
      "\n",
      "**6. Financials and Valuations:**\n",
      "\t* Tesla: Listed on the NASDAQ stock exchange, with a market capitalization of over $1 trillion, making it one of the most valuable automakers in the world.\n",
      "\t* Uber: Listed on the New York Stock Exchange (NYSE), with a market capitalization of around $80 billion.\n",
      "\n",
      "**7. Technology Focus:**\n",
      "\t* Tesla: Focused on developing advanced Autopilot technology and building a robust ecosystem for electric vehicles, including Supercharger networks and energy storage products.\n",
      "\t* Uber: Emphasizes leveraging AI, machine learning, and data analytics to improve the ride-hailing experience, enhance safety, and expand its services.\n",
      "\n",
      "In summary, while both companies are tech-driven and innovative, Tesla focuses on disrupting the automotive industry with EVs and clean energy solutions, whereas Uber operates as a TNS platform connecting passengers with drivers.\n",
      "--------------------------------------------------\n"
     ]
    }
   ],
   "source": [
    "for q in queries:\n",
    "    print(f\"Query: {q}\")\n",
    "    answer = query(q)\n",
    "    print(f\"Answer: {answer}\")\n",
    "    print(\"-\" * 50)"
   ]
  },
  {
   "cell_type": "code",
   "execution_count": null,
   "id": "42dc3b84-b5d1-47eb-9da6-569eec2bd863",
   "metadata": {},
   "outputs": [],
   "source": []
  },
  {
   "cell_type": "code",
   "execution_count": null,
   "id": "27d707e5-4645-4dc5-9570-2388f2ee9b66",
   "metadata": {},
   "outputs": [],
   "source": []
  },
  {
   "cell_type": "code",
   "execution_count": null,
   "id": "73b07860-753e-4ea2-981d-a0233381a695",
   "metadata": {},
   "outputs": [],
   "source": []
  }
 ],
 "metadata": {
  "kernelspec": {
   "display_name": "Python 3 (ipykernel)",
   "language": "python",
   "name": "python3"
  },
  "language_info": {
   "codemirror_mode": {
    "name": "ipython",
    "version": 3
   },
   "file_extension": ".py",
   "mimetype": "text/x-python",
   "name": "python",
   "nbconvert_exporter": "python",
   "pygments_lexer": "ipython3",
   "version": "3.10.10"
  }
 },
 "nbformat": 4,
 "nbformat_minor": 5
}
